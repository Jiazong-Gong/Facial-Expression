{
 "cells": [
  {
   "cell_type": "code",
   "execution_count": 87,
   "metadata": {},
   "outputs": [],
   "source": [
    "import torch.utils.data\n",
    "from Dataloader import *\n",
    "from Model import *\n",
    "from Evaluation import *\n",
    "from Logger import *\n",
    "from sklearn.decomposition import PCA\n",
    "from sklearn.preprocessing import StandardScaler\n",
    "pca = PCA(n_components=7)"
   ]
  },
  {
   "cell_type": "code",
   "execution_count": 88,
   "metadata": {},
   "outputs": [],
   "source": [
    "\n",
    "file = pd.read_excel ('SFEW.xlsx')\n",
    "file = file.fillna(0)\n",
    "file.columns = ['name', 'target', 'value_1', 'value_2', 'value_3', 'value_4', 'value_5', 'value_6', 'value_7', 'value_8', 'value_9', 'value_10']\n",
    "file.iloc[:, 2:] = StandardScaler().fit_transform(file.iloc[:, 2:])\n",
    "accuracies = []\n",
    "# logger = Logger('./bdnn')"
   ]
  },
  {
   "cell_type": "code",
   "execution_count": 91,
   "metadata": {},
   "outputs": [],
   "source": [
    "file.iloc[:, 2:9] = pca.fit_transform(file.iloc[:, 2:])"
   ]
  },
  {
   "cell_type": "code",
   "execution_count": 92,
   "metadata": {},
   "outputs": [],
   "source": [
    "all_losses = []\n",
    "accuracies = []"
   ]
  },
  {
   "cell_type": "code",
   "execution_count": 93,
   "metadata": {
    "scrolled": true
   },
   "outputs": [
    {
     "name": "stdout",
     "output_type": "stream",
     "text": [
      "Testing Accuracy: 25.19 %\n",
      "Testing Accuracy: 22.22 %\n",
      "Testing Accuracy: 19.26 %\n",
      "Testing Accuracy: 22.96 %\n",
      "Testing Accuracy: 20.74 %\n",
      "Testing Accuracy: 24.44 %\n",
      "Testing Accuracy: 19.26 %\n",
      "Testing Accuracy: 20.00 %\n",
      "Testing Accuracy: 20.00 %\n",
      "Testing Accuracy: 20.74 %\n",
      "Testing Accuracy: 23.70 %\n",
      "Testing Accuracy: 19.26 %\n",
      "Testing Accuracy: 23.70 %\n",
      "Testing Accuracy: 17.78 %\n",
      "Testing Accuracy: 22.22 %\n",
      "Testing Accuracy: 21.48 %\n",
      "Testing Accuracy: 20.74 %\n",
      "Testing Accuracy: 21.48 %\n",
      "Testing Accuracy: 23.70 %\n",
      "Testing Accuracy: 26.67 %\n",
      "Testing Accuracy: 22.22 %\n",
      "Testing Accuracy: 24.44 %\n",
      "Testing Accuracy: 20.00 %\n",
      "Testing Accuracy: 22.96 %\n",
      "Testing Accuracy: 25.19 %\n",
      "Testing Accuracy: 25.93 %\n",
      "Testing Accuracy: 23.70 %\n",
      "Testing Accuracy: 22.22 %\n",
      "Testing Accuracy: 27.41 %\n",
      "Testing Accuracy: 28.15 %\n",
      "Testing Accuracy: 23.70 %\n",
      "Testing Accuracy: 21.48 %\n",
      "Testing Accuracy: 23.70 %\n",
      "Testing Accuracy: 22.22 %\n",
      "Testing Accuracy: 19.26 %\n",
      "Testing Accuracy: 19.26 %\n",
      "Testing Accuracy: 22.22 %\n",
      "Testing Accuracy: 25.93 %\n",
      "Testing Accuracy: 24.44 %\n",
      "Testing Accuracy: 22.22 %\n",
      "Testing Accuracy: 22.96 %\n",
      "Testing Accuracy: 25.19 %\n",
      "Testing Accuracy: 24.44 %\n",
      "Testing Accuracy: 20.74 %\n",
      "Testing Accuracy: 21.48 %\n",
      "Testing Accuracy: 27.41 %\n",
      "Testing Accuracy: 22.22 %\n",
      "Testing Accuracy: 15.56 %\n",
      "Testing Accuracy: 20.00 %\n",
      "Testing Accuracy: 23.70 %\n",
      "Testing Accuracy: 22.22 %\n",
      "Testing Accuracy: 30.37 %\n",
      "Testing Accuracy: 19.26 %\n",
      "Testing Accuracy: 27.41 %\n",
      "Testing Accuracy: 24.44 %\n",
      "Testing Accuracy: 22.22 %\n",
      "Testing Accuracy: 19.26 %\n",
      "Testing Accuracy: 22.22 %\n",
      "Testing Accuracy: 19.26 %\n",
      "Testing Accuracy: 20.74 %\n",
      "Testing Accuracy: 24.44 %\n",
      "Testing Accuracy: 19.26 %\n",
      "Testing Accuracy: 18.52 %\n",
      "Testing Accuracy: 23.70 %\n",
      "Testing Accuracy: 21.48 %\n",
      "Testing Accuracy: 17.04 %\n",
      "Testing Accuracy: 19.26 %\n",
      "Testing Accuracy: 25.19 %\n",
      "Testing Accuracy: 24.44 %\n",
      "Testing Accuracy: 22.22 %\n",
      "Testing Accuracy: 22.22 %\n",
      "Testing Accuracy: 22.96 %\n",
      "Testing Accuracy: 28.15 %\n",
      "Testing Accuracy: 17.78 %\n",
      "Testing Accuracy: 19.26 %\n",
      "Testing Accuracy: 24.44 %\n",
      "Testing Accuracy: 21.48 %\n",
      "Testing Accuracy: 23.70 %\n",
      "Testing Accuracy: 20.74 %\n",
      "Testing Accuracy: 17.78 %\n",
      "Testing Accuracy: 20.74 %\n",
      "Testing Accuracy: 21.48 %\n",
      "Testing Accuracy: 20.00 %\n",
      "Testing Accuracy: 22.96 %\n",
      "Testing Accuracy: 25.93 %\n",
      "Testing Accuracy: 18.52 %\n",
      "Testing Accuracy: 27.41 %\n",
      "Testing Accuracy: 20.00 %\n",
      "Testing Accuracy: 27.41 %\n",
      "Testing Accuracy: 23.70 %\n",
      "Testing Accuracy: 24.44 %\n",
      "Testing Accuracy: 31.85 %\n",
      "Testing Accuracy: 22.22 %\n",
      "Testing Accuracy: 22.96 %\n",
      "Testing Accuracy: 22.22 %\n",
      "Testing Accuracy: 25.93 %\n",
      "Testing Accuracy: 20.00 %\n",
      "Testing Accuracy: 22.22 %\n",
      "Testing Accuracy: 22.96 %\n",
      "Testing Accuracy: 23.70 %\n"
     ]
    }
   ],
   "source": [
    "# specify the parameters\n",
    "input_size = 7\n",
    "hidden_size = 30\n",
    "embedded_size = 6\n",
    "num_classes = 7\n",
    "num_epochs = 200\n",
    "batch_size = 10\n",
    "learning_rate = 0.007\n",
    "\n",
    "for i in range(100):\n",
    "    \n",
    "    train_file = file.iloc[:, 1:9].sample(frac=0.8)\n",
    "    test_file = pd.DataFrame(file.iloc[:, 1:9].merge(train_file, how='outer', indicator=True).loc[lambda x: x['_merge'] == 'left_only']).iloc[:, :-1]\n",
    "\n",
    "    train_dataset = DataFrameDataset(train_file)\n",
    "    test_dataset = DataFrameDataset(test_file)\n",
    "\n",
    "\n",
    "    train_loader = torch.utils.data.DataLoader(train_dataset, batch_size=batch_size, shuffle=False)\n",
    "    test_loader = torch.utils.data.DataLoader(test_dataset, batch_size=batch_size, shuffle=False)\n",
    "\n",
    "\n",
    "    # construct the network\n",
    "    net = Net(input_size, hidden_size, num_classes)\n",
    "\n",
    "    # Loss and Optimizer\n",
    "    criterion = nn.CrossEntropyLoss()\n",
    "    optimizer = torch.optim.Adam(net.parameters(), lr=learning_rate)\n",
    "    # criterion1 = nn.MSELoss()\n",
    "    # criterion2 = nn.CrossEntropyLoss()\n",
    "    # optimizer = torch.optim.SGD(params=net.parameters(), lr=learning_rate, momentum=0.8)\n",
    "\n",
    "    # train the model by batch\n",
    "    # for i in range(10):\n",
    "\n",
    "    for epoch in range(num_epochs):\n",
    "        total = 0\n",
    "        correct = 0\n",
    "        total_loss = 0\n",
    "        for step, (batch_x, batch_y) in enumerate(train_loader):\n",
    "            X = batch_x\n",
    "            Y = batch_y.long()\n",
    "\n",
    "            # Forward + Backward + Optimize\n",
    "            optimizer.zero_grad()  # zero the gradient buffer\n",
    "            outputs = net(X)\n",
    "            # print(outputs)\n",
    "            # loss1 = criterion1(decode, X)\n",
    "            # loss2 = criterion2(outputs, Y)\n",
    "            # loss = loss1 + loss2\n",
    "            loss = criterion(outputs, Y)\n",
    "            loss.backward()\n",
    "            optimizer.step()\n",
    "\n",
    "            _, predicted = torch.max(outputs, 1)\n",
    "            # calculate and print accuracy\n",
    "            total = total + predicted.size(0)\n",
    "            correct = correct + sum(predicted.data.cpu().numpy() == Y.data.cpu().numpy())\n",
    "            total_loss = total_loss + loss\n",
    "            accuracy = 100 * correct/total\n",
    "\n",
    "    # accuracy on testing data\n",
    "    test_prediction, targets = prediction(net, test_file)\n",
    "    total = test_prediction.size(0)\n",
    "    correct = test_prediction.data.numpy() == targets.data.numpy()\n",
    "    accuracy = 100 * sum(correct)/total\n",
    "    print('Testing Accuracy: %.2f %%' % accuracy)\n",
    "    accuracies.append(accuracy)"
   ]
  },
  {
   "cell_type": "code",
   "execution_count": 94,
   "metadata": {},
   "outputs": [
    {
     "data": {
      "text/plain": [
       "31.85185185185185"
      ]
     },
     "execution_count": 94,
     "metadata": {},
     "output_type": "execute_result"
    }
   ],
   "source": [
    "max(accuracies)"
   ]
  },
  {
   "cell_type": "code",
   "execution_count": 95,
   "metadata": {},
   "outputs": [
    {
     "data": {
      "text/plain": [
       "22.540740740740738"
      ]
     },
     "execution_count": 95,
     "metadata": {},
     "output_type": "execute_result"
    }
   ],
   "source": [
    "sum(accuracies)/len(accuracies)"
   ]
  },
  {
   "cell_type": "code",
   "execution_count": 96,
   "metadata": {},
   "outputs": [
    {
     "data": {
      "text/plain": [
       "15.555555555555555"
      ]
     },
     "execution_count": 96,
     "metadata": {},
     "output_type": "execute_result"
    }
   ],
   "source": [
    "min(accuracies)"
   ]
  },
  {
   "cell_type": "code",
   "execution_count": null,
   "metadata": {},
   "outputs": [],
   "source": []
  }
 ],
 "metadata": {
  "kernelspec": {
   "display_name": "Python 3",
   "language": "python",
   "name": "python3"
  },
  "language_info": {
   "codemirror_mode": {
    "name": "ipython",
    "version": 3
   },
   "file_extension": ".py",
   "mimetype": "text/x-python",
   "name": "python",
   "nbconvert_exporter": "python",
   "pygments_lexer": "ipython3",
   "version": "3.7.7"
  }
 },
 "nbformat": 4,
 "nbformat_minor": 4
}
